{
  "cells": [
    {
      "cell_type": "markdown",
      "metadata": {
        "id": "view-in-github",
        "colab_type": "text"
      },
      "source": [
        "<a href=\"https://colab.research.google.com/github/HarshitaDoki/Python_programs/blob/main/datatypes1.ipynb\" target=\"_parent\"><img src=\"https://colab.research.google.com/assets/colab-badge.svg\" alt=\"Open In Colab\"/></a>"
      ]
    },
    {
      "cell_type": "markdown",
      "id": "b30e22bf",
      "metadata": {
        "id": "b30e22bf"
      },
      "source": [
        "# converting int to string,float,boolean,complex."
      ]
    },
    {
      "cell_type": "code",
      "execution_count": null,
      "id": "35cad583",
      "metadata": {
        "id": "35cad583",
        "outputId": "fa0f1ff5-ae8b-4758-9f6c-1dad2cc91cc7"
      },
      "outputs": [
        {
          "name": "stdout",
          "output_type": "stream",
          "text": [
            "10\n",
            "<class 'int'>\n",
            "10\n",
            "<class 'str'>\n",
            "10.0\n",
            "<class 'float'>\n",
            "True\n",
            "<class 'bool'>\n",
            "(10+0j)\n",
            "<class 'complex'>\n"
          ]
        }
      ],
      "source": [
        "a=10\n",
        "print(a)\n",
        "print(type(a))\n",
        "    # before convertion\n",
        "b=str(a)\n",
        "print(b)\n",
        "print(type(b))\n",
        "\n",
        "c=float(a)\n",
        "print(c)\n",
        "print(type(c))\n",
        "\n",
        "d=bool(a)\n",
        "print(d)\n",
        "print(type(d))\n",
        " \n",
        "e=complex(a)\n",
        "print(e)\n",
        "print(type(e))\n"
      ]
    },
    {
      "cell_type": "markdown",
      "id": "5faa8a67",
      "metadata": {
        "id": "5faa8a67"
      },
      "source": [
        " # converting string to int ,float ,boolean,complex"
      ]
    },
    {
      "cell_type": "code",
      "execution_count": null,
      "id": "976a7e72",
      "metadata": {
        "id": "976a7e72",
        "outputId": "10c0ac07-2013-4acd-983d-aa63ceac7364"
      },
      "outputs": [
        {
          "name": "stdout",
          "output_type": "stream",
          "text": [
            "20\n",
            "<class 'str'>\n",
            "20\n",
            "<class 'int'>\n",
            "20.0\n",
            "<class 'float'>\n",
            "True\n",
            "<class 'bool'>\n",
            "(20+0j)\n",
            "<class 'complex'>\n"
          ]
        }
      ],
      "source": [
        "a='20'\n",
        "print(a)\n",
        "print(type(a))\n",
        "\n",
        "b=int(a)\n",
        "print(b)\n",
        "print(type(b))\n",
        "\n",
        "#cant convert alphabets into integer....only digits can be converted\n",
        "# so give digits 0-9 instead of alphabets\n",
        "# a='ten'\n",
        "#c=nt(a)\n",
        "#print(c)\n",
        "#print(type(c)\n",
        "d=float(a)\n",
        "print(d)\n",
        "print(type(d))\n",
        "\n",
        "e=bool(a)\n",
        "print(e)\n",
        "print(type(e))\n",
        "\n",
        "f=complex(a)\n",
        "print(f)\n",
        "print(type(f))\n",
        "\n"
      ]
    },
    {
      "cell_type": "markdown",
      "id": "8afbda66",
      "metadata": {
        "id": "8afbda66"
      },
      "source": [
        "# converting float to int,string,boolean,complex"
      ]
    },
    {
      "cell_type": "code",
      "execution_count": null,
      "id": "f4c91775",
      "metadata": {
        "id": "f4c91775",
        "outputId": "7cb5d492-eb54-4bd1-ddf3-84430b77b3e1"
      },
      "outputs": [
        {
          "name": "stdout",
          "output_type": "stream",
          "text": [
            "30.0\n",
            "<class 'float'>\n",
            "30\n",
            "<class 'int'>\n",
            "30.0\n",
            "<class 'str'>\n",
            "True\n",
            "<class 'bool'>\n",
            "(30+0j)\n",
            "<class 'complex'>\n"
          ]
        }
      ],
      "source": [
        "a=30.0\n",
        "print(a)\n",
        "print(type(a))\n",
        "\n",
        "b=int(a)\n",
        "print(b)\n",
        "print(type(b))\n",
        "\n",
        "c=str(a)\n",
        "print(c)\n",
        "print(type(c))\n",
        "\n",
        "d=bool(a)\n",
        "print(d)\n",
        "print(type(d))\n",
        "\n",
        "e=complex(a)\n",
        "print(e)\n",
        "print(type(e))\n"
      ]
    },
    {
      "cell_type": "markdown",
      "id": "af4fc0c3",
      "metadata": {
        "id": "af4fc0c3"
      },
      "source": [
        "# converting complex to int ,string,float,boolean "
      ]
    },
    {
      "cell_type": "code",
      "execution_count": null,
      "id": "6a28a653",
      "metadata": {
        "id": "6a28a653",
        "outputId": "cac2ea20-4589-45f9-cba2-58516da09a9d"
      },
      "outputs": [
        {
          "name": "stdout",
          "output_type": "stream",
          "text": [
            "(10+3j)\n",
            "<class 'complex'>\n",
            "True\n",
            "<class 'bool'>\n",
            "(10+3j)\n",
            "<class 'str'>\n"
          ]
        },
        {
          "ename": "TypeError",
          "evalue": "can't convert complex to float",
          "output_type": "error",
          "traceback": [
            "\u001b[1;31m---------------------------------------------------------------------------\u001b[0m",
            "\u001b[1;31mTypeError\u001b[0m                                 Traceback (most recent call last)",
            "\u001b[1;32m~\\AppData\\Local\\Temp/ipykernel_10876/2438843437.py\u001b[0m in \u001b[0;36m<module>\u001b[1;34m\u001b[0m\n\u001b[0;32m     11\u001b[0m \u001b[1;33m\u001b[0m\u001b[0m\n\u001b[0;32m     12\u001b[0m \u001b[1;31m#cant convert complex t o float\u001b[0m\u001b[1;33m\u001b[0m\u001b[1;33m\u001b[0m\u001b[0m\n\u001b[1;32m---> 13\u001b[1;33m \u001b[0mc\u001b[0m\u001b[1;33m=\u001b[0m\u001b[0mfloat\u001b[0m\u001b[1;33m(\u001b[0m\u001b[0ma\u001b[0m\u001b[1;33m)\u001b[0m\u001b[1;33m\u001b[0m\u001b[1;33m\u001b[0m\u001b[0m\n\u001b[0m\u001b[0;32m     14\u001b[0m \u001b[0mprint\u001b[0m\u001b[1;33m(\u001b[0m\u001b[0mc\u001b[0m\u001b[1;33m)\u001b[0m\u001b[1;33m\u001b[0m\u001b[1;33m\u001b[0m\u001b[0m\n\u001b[0;32m     15\u001b[0m \u001b[0mprint\u001b[0m\u001b[1;33m(\u001b[0m\u001b[0mtype\u001b[0m\u001b[1;33m(\u001b[0m\u001b[0mc\u001b[0m\u001b[1;33m)\u001b[0m\u001b[1;33m)\u001b[0m\u001b[1;33m\u001b[0m\u001b[1;33m\u001b[0m\u001b[0m\n",
            "\u001b[1;31mTypeError\u001b[0m: can't convert complex to float"
          ]
        }
      ],
      "source": [
        "a=10+3j\n",
        "print(a)\n",
        "print(type(a))\n",
        "\n",
        "e=bool(a)\n",
        "print(e)\n",
        "print(type(e))\n",
        "\n",
        "d=str(a)\n",
        "print(d)\n",
        "print(type(d))\n",
        "\n",
        "\n",
        "#cant convert complex t o float\n",
        "c=float(a)\n",
        "print(c)\n",
        "print(type(c))\n",
        "\n",
        "# cant convert complex into int \n",
        "b=int(a)\n",
        "print(b)\n",
        "print(type(b))\n",
        "\n",
        "\n"
      ]
    },
    {
      "cell_type": "code",
      "execution_count": null,
      "id": "bf9be0e6",
      "metadata": {
        "id": "bf9be0e6"
      },
      "outputs": [],
      "source": [
        ""
      ]
    }
  ],
  "metadata": {
    "kernelspec": {
      "display_name": "Python 3 (ipykernel)",
      "language": "python",
      "name": "python3"
    },
    "language_info": {
      "codemirror_mode": {
        "name": "ipython",
        "version": 3
      },
      "file_extension": ".py",
      "mimetype": "text/x-python",
      "name": "python",
      "nbconvert_exporter": "python",
      "pygments_lexer": "ipython3",
      "version": "3.9.7"
    },
    "colab": {
      "name": "datatypes1.ipynb",
      "provenance": [],
      "include_colab_link": true
    }
  },
  "nbformat": 4,
  "nbformat_minor": 5
}