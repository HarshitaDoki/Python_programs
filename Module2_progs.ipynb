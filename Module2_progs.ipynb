{
  "nbformat": 4,
  "nbformat_minor": 0,
  "metadata": {
    "colab": {
      "name": "Module2_progs",
      "provenance": [],
      "collapsed_sections": [],
      "authorship_tag": "ABX9TyNN2siq3ZKq0l2iX6gSviZo",
      "include_colab_link": true
    },
    "kernelspec": {
      "name": "python3",
      "display_name": "Python 3"
    },
    "language_info": {
      "name": "python"
    }
  },
  "cells": [
    {
      "cell_type": "markdown",
      "metadata": {
        "id": "view-in-github",
        "colab_type": "text"
      },
      "source": [
        "<a href=\"https://colab.research.google.com/github/HarshitaDoki/Python_programs/blob/main/Module2_progs.ipynb\" target=\"_parent\"><img src=\"https://colab.research.google.com/assets/colab-badge.svg\" alt=\"Open In Colab\"/></a>"
      ]
    },
    {
      "cell_type": "code",
      "source": [
        "#1. Create a function which accepts two inputs from the user and compute nCr\n",
        "def fact(x):\n",
        "  f=1\n",
        "  if x==0:\n",
        "     x=1\n",
        "  for i in range(1,x+1):\n",
        "    f=f*i\n",
        "  return f\n",
        "n=int(input(\"enter n value\"))\n",
        "r=int(input(\"enter r value\"))    \n",
        "k=fact(n)\n",
        "l=fact(r)\n",
        "m=fact(n-r)\n",
        "c=k/(l*m)\n",
        "print(\"nCr of the given is\",c)"
      ],
      "metadata": {
        "colab": {
          "base_uri": "https://localhost:8080/"
        },
        "id": "RzB_m4IGGtz7",
        "outputId": "33224f43-ec10-4a0f-a05b-1aa838f75887"
      },
      "execution_count": null,
      "outputs": [
        {
          "output_type": "stream",
          "name": "stdout",
          "text": [
            "enter n value10\n",
            "enter r value2\n",
            "nCr of the given is 45.0\n"
          ]
        }
      ]
    },
    {
      "cell_type": "code",
      "source": [
        "#2. Recursive function to compute GCD of 2 numbers\n",
        "def find(n,m,k):\n",
        "  if n%k==0 and m%k==0:\n",
        "    return k\n",
        "  else:\n",
        "     find(n,m,k-1) \n",
        "n=int(input(\"enter a num\"))\n",
        "m=int(input(\"enter a num\"))\n",
        "k=0\n",
        "if n>m:\n",
        "  k=m\n",
        "  find(n,m,k)\n",
        "else :\n",
        "  k=n\n",
        "  find(n,m,k)  \n",
        "print(\"GCD of given num is \",k)"
      ],
      "metadata": {
        "colab": {
          "base_uri": "https://localhost:8080/"
        },
        "id": "F-nzXMJgJrn4",
        "outputId": "33a6143a-c649-4ac4-eb88-4801738aac01"
      },
      "execution_count": null,
      "outputs": [
        {
          "output_type": "stream",
          "name": "stdout",
          "text": [
            "enter a num6\n",
            "enter a num24\n",
            "GCD of given num is  6\n"
          ]
        }
      ]
    },
    {
      "cell_type": "code",
      "source": [
        "#3 Recursive function to find product of two numbers\n",
        "def pdt(n,m):\n",
        "    if n<m:\n",
        "        return pdt(m, n)\n",
        "    elif(m!= 0):\n",
        "        return(n+ pdt(n,m-1))\n",
        "    else:\n",
        "        return 0\n",
        "n=int(input(\"n: \"))\n",
        "m=int(input(\"m: \"))\n",
        "print(pdt(n,m))"
      ],
      "metadata": {
        "colab": {
          "base_uri": "https://localhost:8080/"
        },
        "id": "XAa0mhnZklNb",
        "outputId": "88d6ac27-e6b5-4687-de21-6724f7f7d727"
      },
      "execution_count": null,
      "outputs": [
        {
          "output_type": "stream",
          "name": "stdout",
          "text": [
            "n: 5\n",
            "m: 8\n",
            "40\n"
          ]
        }
      ]
    },
    {
      "cell_type": "code",
      "source": [
        "# 4.recursive function to generate fibanocci series\n",
        "def fib(n):  \n",
        "   if n <= 1:  \n",
        "       return n  \n",
        "   else:  \n",
        "       return(fib(n-1) + fib(n-2))  \n",
        "n=int(input(\"How many terms? \"))    \n",
        "for i in range(n):  \n",
        "       print(fib(i))      "
      ],
      "metadata": {
        "colab": {
          "base_uri": "https://localhost:8080/"
        },
        "id": "QWd7uXNKJ1zX",
        "outputId": "d847fb8b-a0f1-4864-e616-9adc8053a843"
      },
      "execution_count": null,
      "outputs": [
        {
          "output_type": "stream",
          "name": "stdout",
          "text": [
            "How many terms? 8\n",
            "0\n",
            "1\n",
            "1\n",
            "2\n",
            "3\n",
            "5\n",
            "8\n",
            "13\n"
          ]
        }
      ]
    },
    {
      "cell_type": "code",
      "execution_count": null,
      "metadata": {
        "colab": {
          "base_uri": "https://localhost:8080/"
        },
        "id": "jcjaCtJbFxWZ",
        "outputId": "331cb181-06ae-454b-bc70-7d39aff2a122"
      },
      "outputs": [
        {
          "output_type": "stream",
          "name": "stdout",
          "text": [
            "['pencil', 'eraser', 'sharpner']\n"
          ]
        }
      ],
      "source": [
        "#5.Program to print a specified list after removing the 0th, 4th and 5th elements. \n",
        "st=['pen','pencil','eraser','sharpner','scale','whitener']\n",
        "st.pop()\n",
        "st.pop(4)\n",
        "st.pop(0)\n",
        "print(st)"
      ]
    },
    {
      "cell_type": "code",
      "source": [
        "#6.Program to get the difference between the two lists\n",
        "x1=[2,4,9,43,53,42]\n",
        "x2=[8,3,5,2,56,75]\n",
        "d=list(set(x1)-set(x2))\n",
        "print(d)"
      ],
      "metadata": {
        "colab": {
          "base_uri": "https://localhost:8080/"
        },
        "id": "UM8ysoM8G7O-",
        "outputId": "f5a0f4d9-58ec-46bd-aadc-2bedfe0ea162"
      },
      "execution_count": null,
      "outputs": [
        {
          "output_type": "stream",
          "name": "stdout",
          "text": [
            "[4, 9, 42, 43, 53]\n"
          ]
        }
      ]
    },
    {
      "cell_type": "code",
      "source": [
        "#7.Program to find the second smallest number and second largest number in a list\n",
        "num=[2,5,9,3,47,59,93,38,1]\n",
        "num.sort()\n",
        "print('second smallest num is',num[1])\n",
        "print('second largest num is',num[-2])\n",
        "print(num)\n"
      ],
      "metadata": {
        "colab": {
          "base_uri": "https://localhost:8080/"
        },
        "id": "OJf3P3moq0Ic",
        "outputId": "efcdc8b1-601e-4f0d-a7f3-1b0cd59080d3"
      },
      "execution_count": null,
      "outputs": [
        {
          "output_type": "stream",
          "name": "stdout",
          "text": [
            "second smallest num is 2\n",
            "second largest num is 59\n",
            "[1, 2, 3, 5, 9, 38, 47, 59, 93]\n"
          ]
        }
      ]
    },
    {
      "cell_type": "code",
      "source": [
        "#8.Given a list of numbers of list,wapp to create a list of tuples having first element as the number and second element as square of number.\n",
        "l = [2,4,6,3,5,9]\n",
        "r= [(i, pow(i, 2)) for i in l]\n",
        "print(r)"
      ],
      "metadata": {
        "id": "TkvEatrrJkeU"
      },
      "execution_count": null,
      "outputs": []
    },
    {
      "cell_type": "code",
      "source": [
        "'''9. Given list of tuples, remove all the tuples with length K.\n",
        "Input : test_list = [(4, 5), (4, ), (8, 6, 7), (1, ), (3, 4, 6, 7)], K = 2\n",
        "Output : [(4, ), (8, 6, 7), (1, ), (3, 4, 6, 7)]\n",
        "Explanation : (4, 5) of len = 2 is removed.'''\n",
        "test_list=[(4, 5), (4, ), (8, 6, 7), (1, ), (3, 4, 6, 7)]\n",
        "k=int(input(\"enter length of tuple\"))\n",
        "final_list=[n for n in test_list if len(n)!=k]\n",
        "print(\"final list=\",final_list)"
      ],
      "metadata": {
        "colab": {
          "base_uri": "https://localhost:8080/"
        },
        "id": "q3x1rkaVmNYd",
        "outputId": "0ee2922c-d96a-4c53-eba1-a8dd09f0fab5"
      },
      "execution_count": null,
      "outputs": [
        {
          "output_type": "stream",
          "name": "stdout",
          "text": [
            "enter length of tuple2\n",
            "final list= [(4,), (8, 6, 7), (1,), (3, 4, 6, 7)]\n"
          ]
        }
      ]
    },
    {
      "cell_type": "code",
      "source": [
        "# 10.Program to generate and print a dictionary that contains a number (between 1 and n) in the form (x, x*x).\n",
        "n=int(input(\"enter\"))\n",
        "d={}\n",
        "for x in range(1,n+1):\n",
        "  d[x]=x*x\n",
        "print(d)  "
      ],
      "metadata": {
        "colab": {
          "base_uri": "https://localhost:8080/"
        },
        "id": "es84PWKmyKn2",
        "outputId": "8b3a525c-a21a-4bf0-c930-50ea3761cfbf"
      },
      "execution_count": null,
      "outputs": [
        {
          "output_type": "stream",
          "name": "stdout",
          "text": [
            "enter8\n",
            "{1: 1, 2: 4, 3: 9, 4: 16, 5: 25, 6: 36, 7: 49, 8: 64}\n"
          ]
        }
      ]
    },
    {
      "cell_type": "code",
      "source": [
        "#11. Program to remove a key from a dictionary\n",
        "info={\n",
        "    'clg':'githam',\n",
        "    'city':'vskp',\n",
        "    'branch':'cse-aiml'\n",
        "}\n",
        "info.pop('branch')\n",
        "print(info)"
      ],
      "metadata": {
        "colab": {
          "base_uri": "https://localhost:8080/"
        },
        "id": "XedJqpFifX-o",
        "outputId": "560f5d37-ce14-4bac-85df-53a89bb1e694"
      },
      "execution_count": null,
      "outputs": [
        {
          "output_type": "stream",
          "name": "stdout",
          "text": [
            "{'clg': 'githam', 'city': 'vskp'}\n"
          ]
        }
      ]
    },
    {
      "cell_type": "code",
      "source": [
        "# 12.Program to get the maximum and minimum value in a dictionary.\n",
        "dic={\n",
        "    'a':10,\n",
        "    'b':41,\n",
        "    'c':30\n",
        "}\n",
        "maxi=max(dic.keys(),key=(lambda n: dic[n]))\n",
        "mini=min(dic.keys(),key=(lambda n:dic[n]))\n",
        "print(\"max value =\",dic[maxi])\n",
        "print(\"min value=\",dic[mini])"
      ],
      "metadata": {
        "colab": {
          "base_uri": "https://localhost:8080/"
        },
        "id": "-XBbRvSAnce0",
        "outputId": "7dd5c022-f50e-4007-fc97-a8406dd1f738"
      },
      "execution_count": null,
      "outputs": [
        {
          "output_type": "stream",
          "name": "stdout",
          "text": [
            "max value = 41\n",
            "min value= 10\n"
          ]
        }
      ]
    },
    {
      "cell_type": "code",
      "source": [
        "#13. Program for Counting occurrence of a certain element in a string, getting indexes that have matching elements\n",
        "animal='rabbit'\n",
        "c=animal.count('b')\n",
        "print(c)"
      ],
      "metadata": {
        "colab": {
          "base_uri": "https://localhost:8080/"
        },
        "id": "HfW_AszmkOAJ",
        "outputId": "e503de05-3d72-4be3-ae97-e0475ae316b1"
      },
      "execution_count": null,
      "outputs": [
        {
          "output_type": "stream",
          "name": "stdout",
          "text": [
            "2\n"
          ]
        }
      ]
    },
    {
      "cell_type": "code",
      "source": [
        "#14. Program for replacing one substring by another\n",
        "animal='rabbit'\n",
        "print(animal.replace('bb','cc'))\n",
        "print(animal)"
      ],
      "metadata": {
        "colab": {
          "base_uri": "https://localhost:8080/"
        },
        "id": "WTqYK3hUksdQ",
        "outputId": "ecb0386e-b7c7-4bea-b8c8-ddad281b17b3"
      },
      "execution_count": null,
      "outputs": [
        {
          "output_type": "stream",
          "name": "stdout",
          "text": [
            "raccit\n",
            "rabbit\n"
          ]
        }
      ]
    },
    {
      "cell_type": "code",
      "source": [
        "#15. Python program that accepts a string and calculates the number of uppercase and lowercase letters.\n",
        "st='My name is Hari'\n",
        "c=k=0\n",
        "for i in st:\n",
        "  if i.isupper():\n",
        "    c=c+1\n",
        "  elif i.islower():\n",
        "    k=k+1  \n",
        "print('no of upper case letters =',c)   \n",
        "print('no of lower case letters =',k)   "
      ],
      "metadata": {
        "colab": {
          "base_uri": "https://localhost:8080/"
        },
        "id": "tsB1fTFMTMiY",
        "outputId": "42a14abd-6c07-4038-b0e4-dc17218247a8"
      },
      "execution_count": null,
      "outputs": [
        {
          "output_type": "stream",
          "name": "stdout",
          "text": [
            "no of upper case letters = 2\n",
            "no of lower case letters = 10\n"
          ]
        }
      ]
    },
    {
      "cell_type": "code",
      "source": [
        "#16.Python function that accepts a string and calculates the number of uppercase letters and lowercase letters\n",
        "def count(st):\n",
        "  c=k=0\n",
        "  for i in st:\n",
        "    if i.isupper():\n",
        "      c=c+1\n",
        "    elif i.islower():\n",
        "      k=k+1 \n",
        "  print('no of upper case letters =',c)   \n",
        "  print('no of lower case letters =',k)    \n",
        "count(st=input(\"enter a string\"))   "
      ],
      "metadata": {
        "colab": {
          "base_uri": "https://localhost:8080/"
        },
        "id": "i6rMXYYyHbLK",
        "outputId": "cc85bb45-e865-47c4-80a5-bcb451cce359"
      },
      "execution_count": null,
      "outputs": [
        {
          "output_type": "stream",
          "name": "stdout",
          "text": [
            "enter a stringMy name is Hari\n",
            "no of upper case letters = 2\n",
            "no of lower case letters = 10\n"
          ]
        }
      ]
    },
    {
      "cell_type": "code",
      "source": [
        "'''17.Program to count the number of strings where the string length is 2 or more and\n",
        "the first and last character are same from a given list of strings\n",
        "x Sample List : ['abc', 'xyz', 'aba', '1221'] Expected Result : 2'''\n",
        "def same_words(w):\n",
        "  c=0\n",
        "  for word in w:\n",
        "    if len(word)>1 and word[0]==word[-1]:\n",
        "      c=c+1\n",
        "  return c  \n",
        "print(same_words(['abc','xyz','aba','1221']))      "
      ],
      "metadata": {
        "colab": {
          "base_uri": "https://localhost:8080/"
        },
        "id": "970_kalasqxt",
        "outputId": "26c2f98c-8d12-4513-e9f0-f6815500a46b"
      },
      "execution_count": null,
      "outputs": [
        {
          "output_type": "stream",
          "name": "stdout",
          "text": [
            "2\n"
          ]
        }
      ]
    }
  ]
}