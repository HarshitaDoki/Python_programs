{
  "nbformat": 4,
  "nbformat_minor": 0,
  "metadata": {
    "colab": {
      "name": "progs_exam_1",
      "provenance": [],
      "authorship_tag": "ABX9TyOcWDl5yYwB7K0zkWAr+IVQ",
      "include_colab_link": true
    },
    "kernelspec": {
      "name": "python3",
      "display_name": "Python 3"
    },
    "language_info": {
      "name": "python"
    }
  },
  "cells": [
    {
      "cell_type": "markdown",
      "metadata": {
        "id": "view-in-github",
        "colab_type": "text"
      },
      "source": [
        "<a href=\"https://colab.research.google.com/github/HarshitaDoki/Python_programs/blob/main/progs_exam_1.ipynb\" target=\"_parent\"><img src=\"https://colab.research.google.com/assets/colab-badge.svg\" alt=\"Open In Colab\"/></a>"
      ]
    },
    {
      "cell_type": "code",
      "execution_count": 1,
      "metadata": {
        "colab": {
          "base_uri": "https://localhost:8080/"
        },
        "id": "3tO7jGJiGWmB",
        "outputId": "7fd6849f-0821-4d80-9c5c-4f2abf295073"
      },
      "outputs": [
        {
          "output_type": "stream",
          "name": "stdout",
          "text": [
            "enter a num30\n",
            "enter a num40\n",
            "100 -80 240000 25.0\n"
          ]
        }
      ],
      "source": [
        "a=10\n",
        "b=20\n",
        "c=int(input(\"enter a num\"))\n",
        "d=int(input(\"enter a num\"))\n",
        "sum=a+b+c+d\n",
        "sub=a-b-c-d\n",
        "m=a*b*c*d\n",
        "avg=sum/4\n",
        "print(sum,sub,m,avg)"
      ]
    },
    {
      "cell_type": "code",
      "source": [
        "animals=['dog','cat','duck','bat','goat']\n",
        "animals.insert(2,'harshita')\n",
        "animals.pop()\n",
        "print(animals)"
      ],
      "metadata": {
        "colab": {
          "base_uri": "https://localhost:8080/"
        },
        "id": "lnq4La45Hjnx",
        "outputId": "def46d16-44f1-4661-9f77-c3411e39b8bc"
      },
      "execution_count": 6,
      "outputs": [
        {
          "output_type": "stream",
          "name": "stdout",
          "text": [
            "['dog', 'cat', 'harshita', 'duck', 'bat']\n"
          ]
        }
      ]
    }
  ]
}