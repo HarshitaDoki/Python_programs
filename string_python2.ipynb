{
  "nbformat": 4,
  "nbformat_minor": 0,
  "metadata": {
    "colab": {
      "name": "string_python2",
      "provenance": [],
      "authorship_tag": "ABX9TyMB6f25xnpaKECDKv37CQ/H",
      "include_colab_link": true
    },
    "kernelspec": {
      "name": "python3",
      "display_name": "Python 3"
    },
    "language_info": {
      "name": "python"
    }
  },
  "cells": [
    {
      "cell_type": "markdown",
      "metadata": {
        "id": "view-in-github",
        "colab_type": "text"
      },
      "source": [
        "<a href=\"https://colab.research.google.com/github/HarshitaDoki/Python_programs/blob/main/string_python2.ipynb\" target=\"_parent\"><img src=\"https://colab.research.google.com/assets/colab-badge.svg\" alt=\"Open In Colab\"/></a>"
      ]
    },
    {
      "cell_type": "markdown",
      "source": [
        "## format strings"
      ],
      "metadata": {
        "id": "OTqxt1KdOfpn"
      }
    },
    {
      "cell_type": "code",
      "execution_count": 1,
      "metadata": {
        "colab": {
          "base_uri": "https://localhost:8080/"
        },
        "id": "V3h-TwBlNc6W",
        "outputId": "c461934d-48b6-4603-9180-f96d0e3b84ca"
      },
      "outputs": [
        {
          "output_type": "stream",
          "name": "stdout",
          "text": [
            "I want to pay 49.95 dollars for 3 pieces of item 567.\n"
          ]
        }
      ],
      "source": [
        "quantity = 3\n",
        "itemno = 567\n",
        "price = 49.95\n",
        "myorder = \"I want to pay {2} dollars for {0} pieces of item {1}.\"\n",
        "print(myorder.format(quantity, itemno, price))"
      ]
    },
    {
      "cell_type": "markdown",
      "source": [
        "## escape characters"
      ],
      "metadata": {
        "id": "jHGC-kAEOp4f"
      }
    },
    {
      "cell_type": "code",
      "source": [
        "txt = \"We are the so-called \\\"Vikings\\\" from the north.\"\n",
        "print(txt)"
      ],
      "metadata": {
        "colab": {
          "base_uri": "https://localhost:8080/"
        },
        "id": "vAW-QgyLPAbp",
        "outputId": "a5c17eda-05e0-4e6e-d9ce-e4c43a516804"
      },
      "execution_count": 5,
      "outputs": [
        {
          "output_type": "stream",
          "name": "stdout",
          "text": [
            "We are the so-called \"Vikings\" from the north.\n"
          ]
        }
      ]
    },
    {
      "cell_type": "code",
      "source": [
        "a='I went to \\'RRR\\' movie'\n",
        "print(a)\n",
        "\n",
        "a='hello\\nworld'\n",
        "print(a)\n",
        "\n",
        "a='hello\\tworld'\n",
        "print(a)\n",
        "\n",
        "a='hello\\\\world'\n",
        "print(a)\n",
        "\n",
        "a='hello\\rworld'\n",
        "print(a)"
      ],
      "metadata": {
        "colab": {
          "base_uri": "https://localhost:8080/"
        },
        "id": "XyLua_0PQD1o",
        "outputId": "40ec18a1-d775-463e-89f3-e36db9388547"
      },
      "execution_count": 15,
      "outputs": [
        {
          "output_type": "stream",
          "name": "stdout",
          "text": [
            "I went to 'RRR' movie\n",
            "hello\n",
            "world\n",
            "hello\tworld\n",
            "hello\\world\n",
            "hello\rworld\n"
          ]
        }
      ]
    }
  ]
}