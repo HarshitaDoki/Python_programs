{
  "nbformat": 4,
  "nbformat_minor": 0,
  "metadata": {
    "colab": {
      "name": "Tuple.ipynb",
      "provenance": [],
      "collapsed_sections": [],
      "authorship_tag": "ABX9TyPJo7VkjCf+mrCfqpi3l6H8",
      "include_colab_link": true
    },
    "kernelspec": {
      "name": "python3",
      "display_name": "Python 3"
    },
    "language_info": {
      "name": "python"
    }
  },
  "cells": [
    {
      "cell_type": "markdown",
      "metadata": {
        "id": "view-in-github",
        "colab_type": "text"
      },
      "source": [
        "<a href=\"https://colab.research.google.com/github/HarshitaDoki/Python_programs/blob/main/Tuple.ipynb\" target=\"_parent\"><img src=\"https://colab.research.google.com/assets/colab-badge.svg\" alt=\"Open In Colab\"/></a>"
      ]
    },
    {
      "cell_type": "markdown",
      "source": [
        "A tuple is a collection which is ordered and unchangeable and allow duplicate values.\n",
        "Tuples are written with round brackets."
      ],
      "metadata": {
        "id": "Fjz9vh-UR7HU"
      }
    },
    {
      "cell_type": "code",
      "source": [
        "animals=('dog','cat','duck','bat','goat') ## or animals=tuple(('dog','cat','duck'))\n",
        "print(animals)\n",
        "print(len(animals))\n",
        "print(animals[2])\n",
        "print(animals[-2])"
      ],
      "metadata": {
        "colab": {
          "base_uri": "https://localhost:8080/"
        },
        "id": "dvQTZ23oSCSd",
        "outputId": "8d154e90-c7dc-4697-fdb6-12ec6c519126"
      },
      "execution_count": null,
      "outputs": [
        {
          "output_type": "stream",
          "name": "stdout",
          "text": [
            "('dog', 'cat', 'duck', 'bat', 'goat')\n",
            "5\n",
            "duck\n",
            "bat\n"
          ]
        }
      ]
    },
    {
      "cell_type": "markdown",
      "source": [
        "To create a tuple with only one item, you have to add a comma after the item, otherwise Python will not recognize it as a tuple"
      ],
      "metadata": {
        "id": "tGyWrWg1TEHz"
      }
    },
    {
      "cell_type": "code",
      "source": [
        "animals=('dog',)\n",
        "print(animals)\n",
        "print(len(animals))\n",
        "print(type(animals))\n",
        "\n",
        "animals=('dog')\n",
        "print(type(animals))\n"
      ],
      "metadata": {
        "colab": {
          "base_uri": "https://localhost:8080/"
        },
        "id": "pZPNokUDTFuy",
        "outputId": "62ef72e8-c7a9-41dc-d487-d313418700a7"
      },
      "execution_count": null,
      "outputs": [
        {
          "output_type": "stream",
          "name": "stdout",
          "text": [
            "('dog',)\n",
            "1\n",
            "<class 'tuple'>\n",
            "<class 'str'>\n"
          ]
        }
      ]
    },
    {
      "cell_type": "markdown",
      "source": [
        "Tuple items can be of any data type,A tuple can contain different data types"
      ],
      "metadata": {
        "id": "AXzrXPR_TsG0"
      }
    },
    {
      "cell_type": "code",
      "source": [
        "animals=('dog',34,'true','abc','cake','choco',1039)\n",
        "print(animals)\n",
        "print(animals[2:8])\n",
        "print(animals[-6:-1])\n",
        "print(animals[1:])\n",
        "print(animals[:-1])\n",
        "if 'cake' in animals:\n",
        "  print(\"yaay! we have cake\")"
      ],
      "metadata": {
        "colab": {
          "base_uri": "https://localhost:8080/"
        },
        "id": "yF0izsGxT8wz",
        "outputId": "f5a16f9b-d8b2-4978-8170-975b5e8d773d"
      },
      "execution_count": 14,
      "outputs": [
        {
          "output_type": "stream",
          "name": "stdout",
          "text": [
            "('dog', 34, 'true', 'abc', 'cake', 'choco', 1039)\n",
            "('true', 'abc', 'cake', 'choco', 1039)\n",
            "(34, 'true', 'abc', 'cake', 'choco')\n",
            "(34, 'true', 'abc', 'cake', 'choco', 1039)\n",
            "('dog', 34, 'true', 'abc', 'cake', 'choco')\n",
            "yaay! we have cake\n"
          ]
        }
      ]
    },
    {
      "cell_type": "markdown",
      "source": [
        "Converting tuple to list for changes"
      ],
      "metadata": {
        "id": "2y9X36Paorj9"
      }
    },
    {
      "cell_type": "code",
      "source": [
        "animals=('dog','cat','duck','bat','goat')\n",
        "hp=list(animals)\n",
        "hp.append('donkey')\n",
        "animals=tuple(hp)\n",
        "print(animals)\n",
        "\n",
        "hp=list(animals)\n",
        "hp.remove('donkey')\n",
        "animals=tuple(hp)\n",
        "print(animals)"
      ],
      "metadata": {
        "colab": {
          "base_uri": "https://localhost:8080/"
        },
        "id": "QFttL3LMnZ8t",
        "outputId": "4ee31851-4575-45af-d8b9-f3c3deb805a2"
      },
      "execution_count": 15,
      "outputs": [
        {
          "output_type": "stream",
          "name": "stdout",
          "text": [
            "('dog', 'cat', 'duck', 'bat', 'goat', 'donkey')\n",
            "('dog', 'cat', 'duck', 'bat', 'goat')\n"
          ]
        }
      ]
    },
    {
      "cell_type": "markdown",
      "source": [
        "concatenation of 2 tuples"
      ],
      "metadata": {
        "id": "vjlKX6Hupzoc"
      }
    },
    {
      "cell_type": "code",
      "source": [
        "animals=('dog','cat','duck','bat','goat')\n",
        "other=('donkey',)\n",
        "animals=other+animals\n",
        "print(animals)\n",
        "\n",
        "del animals\n",
        "# print(animals)............gives error because the tuple no longer exists"
      ],
      "metadata": {
        "colab": {
          "base_uri": "https://localhost:8080/"
        },
        "id": "Dg1o7YMRo0NN",
        "outputId": "a559a138-1a91-4954-bc0b-cd3a1e19bab2"
      },
      "execution_count": 17,
      "outputs": [
        {
          "output_type": "stream",
          "name": "stdout",
          "text": [
            "('donkey', 'dog', 'cat', 'duck', 'bat', 'goat')\n"
          ]
        }
      ]
    },
    {
      "cell_type": "markdown",
      "source": [
        "We are also allowed to extract the values back into variables. This is called \"unpacking\".\n",
        "The number of variables must match the number of values in the tuple, if not, you must use an asterisk to collect the remaining values as a list."
      ],
      "metadata": {
        "id": "4yCE8vKKp5O0"
      }
    },
    {
      "cell_type": "code",
      "source": [
        "animals=('dog','cat','duck','bat','goat')\n",
        "(a,b,c,d,e) =animals\n",
        "print(a,b,c,d,e)\n",
        "\n",
        "(x,y,*z)=animals\n",
        "print(x,y,z)\n",
        "\n",
        "(k,*l,m)=animals\n",
        "print(k,l,m)"
      ],
      "metadata": {
        "colab": {
          "base_uri": "https://localhost:8080/"
        },
        "id": "XgzpcJfgp5q0",
        "outputId": "08cc656b-f353-452f-c789-1a0dfb30697d"
      },
      "execution_count": 23,
      "outputs": [
        {
          "output_type": "stream",
          "name": "stdout",
          "text": [
            "dog cat duck bat goat\n",
            "dog cat ['duck', 'bat', 'goat']\n",
            "dog ['cat', 'duck', 'bat'] goat\n"
          ]
        }
      ]
    },
    {
      "cell_type": "code",
      "source": [
        "fruits=(\"apple\", \"banana\", \"cherry\")\n",
        "for i in range(len(fruits)):\n",
        "  print(fruits[i])\n",
        "print(' ')\n",
        "thistuple = (\"apple\", \"banana\", \"cherry\")\n",
        "i = 0\n",
        "while i < len(thistuple):\n",
        "  print(thistuple[i])\n",
        "  i = i + 1\n"
      ],
      "metadata": {
        "colab": {
          "base_uri": "https://localhost:8080/"
        },
        "id": "DLqOXy23sw_U",
        "outputId": "3e00a5aa-b439-4ebd-ddaf-b5f225b50603"
      },
      "execution_count": 28,
      "outputs": [
        {
          "output_type": "stream",
          "name": "stdout",
          "text": [
            "apple\n",
            "banana\n",
            "cherry\n",
            " \n",
            "apple\n",
            "banana\n",
            "cherry\n"
          ]
        }
      ]
    },
    {
      "cell_type": "markdown",
      "source": [
        "To multiply the content of a tuple a given number of times, you can use the * operator:"
      ],
      "metadata": {
        "id": "b7PUvwyHzzUv"
      }
    },
    {
      "cell_type": "code",
      "source": [
        "fruits = (\"apple\", \"banana\", \"cherry\")\n",
        "mytuple = fruits * 2\n",
        "\n",
        "print(mytuple)"
      ],
      "metadata": {
        "colab": {
          "base_uri": "https://localhost:8080/"
        },
        "id": "zrPJ1FQ8zz6H",
        "outputId": "ebe97184-1af7-4239-f570-518a54738e99"
      },
      "execution_count": 29,
      "outputs": [
        {
          "output_type": "stream",
          "name": "stdout",
          "text": [
            "('apple', 'banana', 'cherry', 'apple', 'banana', 'cherry')\n"
          ]
        }
      ]
    },
    {
      "cell_type": "markdown",
      "source": [
        "to remove a particular element which is repeated in tuple"
      ],
      "metadata": {
        "id": "H-5YMjmN4lu7"
      }
    },
    {
      "cell_type": "code",
      "source": [
        "a=(1,2,3,3,1,4)\n",
        "print(a)\n",
        "b=list(a)\n",
        "print(b)\n",
        "for i in list(b):\n",
        "  if i==1:\n",
        "    b.remove(i)\n",
        "a=tuple(b) \n",
        "print(a) "
      ],
      "metadata": {
        "colab": {
          "base_uri": "https://localhost:8080/"
        },
        "id": "K2OsyWM94iHN",
        "outputId": "e86e9576-ea6c-41e9-cf50-d29dc4827001"
      },
      "execution_count": 30,
      "outputs": [
        {
          "output_type": "stream",
          "name": "stdout",
          "text": [
            "(1, 2, 3, 3, 1, 4)\n",
            "[1, 2, 3, 3, 1, 4]\n",
            "(2, 3, 3, 4)\n"
          ]
        }
      ]
    }
  ]
}