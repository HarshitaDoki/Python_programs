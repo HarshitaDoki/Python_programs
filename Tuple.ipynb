{
  "nbformat": 4,
  "nbformat_minor": 0,
  "metadata": {
    "colab": {
      "name": "Tuple.ipynb",
      "provenance": [],
      "authorship_tag": "ABX9TyP8OhOrYb1DLDJcV37wO47c",
      "include_colab_link": true
    },
    "kernelspec": {
      "name": "python3",
      "display_name": "Python 3"
    },
    "language_info": {
      "name": "python"
    }
  },
  "cells": [
    {
      "cell_type": "markdown",
      "metadata": {
        "id": "view-in-github",
        "colab_type": "text"
      },
      "source": [
        "<a href=\"https://colab.research.google.com/github/HarshitaDoki/Python_programs/blob/main/Tuple.ipynb\" target=\"_parent\"><img src=\"https://colab.research.google.com/assets/colab-badge.svg\" alt=\"Open In Colab\"/></a>"
      ]
    },
    {
      "cell_type": "markdown",
      "source": [
        "A tuple is a collection which is ordered and unchangeable and allow duplicate values.\n",
        "Tuples are written with round brackets."
      ],
      "metadata": {
        "id": "Fjz9vh-UR7HU"
      }
    },
    {
      "cell_type": "code",
      "source": [
        "animals=('dog','cat','duck','bat','goat') ## or animals=tuple(('dog','cat','duck'))\n",
        "print(animals)\n",
        "print(len(animals))\n",
        "print(animals[2])\n",
        "print(animals[-2])"
      ],
      "metadata": {
        "colab": {
          "base_uri": "https://localhost:8080/"
        },
        "id": "dvQTZ23oSCSd",
        "outputId": "8d154e90-c7dc-4697-fdb6-12ec6c519126"
      },
      "execution_count": 8,
      "outputs": [
        {
          "output_type": "stream",
          "name": "stdout",
          "text": [
            "('dog', 'cat', 'duck', 'bat', 'goat')\n",
            "5\n",
            "duck\n",
            "bat\n"
          ]
        }
      ]
    },
    {
      "cell_type": "markdown",
      "source": [
        "To create a tuple with only one item, you have to add a comma after the item, otherwise Python will not recognize it as a tuple"
      ],
      "metadata": {
        "id": "tGyWrWg1TEHz"
      }
    },
    {
      "cell_type": "code",
      "source": [
        "animals=('dog',)\n",
        "print(animals)\n",
        "print(len(animals))\n",
        "print(type(animals))\n",
        "\n",
        "animals=('dog')\n",
        "print(type(animals))\n"
      ],
      "metadata": {
        "colab": {
          "base_uri": "https://localhost:8080/"
        },
        "id": "pZPNokUDTFuy",
        "outputId": "62ef72e8-c7a9-41dc-d487-d313418700a7"
      },
      "execution_count": 4,
      "outputs": [
        {
          "output_type": "stream",
          "name": "stdout",
          "text": [
            "('dog',)\n",
            "1\n",
            "<class 'tuple'>\n",
            "<class 'str'>\n"
          ]
        }
      ]
    },
    {
      "cell_type": "markdown",
      "source": [
        "Tuple items can be of any data type,A tuple can contain different data types"
      ],
      "metadata": {
        "id": "AXzrXPR_TsG0"
      }
    },
    {
      "cell_type": "code",
      "source": [
        "animals=('dog','34','true','abc')\n",
        "print(animals)"
      ],
      "metadata": {
        "colab": {
          "base_uri": "https://localhost:8080/"
        },
        "id": "yF0izsGxT8wz",
        "outputId": "bdeac2b5-66d0-4c25-e8ea-6388202516f3"
      },
      "execution_count": 5,
      "outputs": [
        {
          "output_type": "stream",
          "name": "stdout",
          "text": [
            "('dog', '34', 'true', 'abc')\n"
          ]
        }
      ]
    }
  ]
}