{
  "nbformat": 4,
  "nbformat_minor": 0,
  "metadata": {
    "colab": {
      "name": "List_23-3-22",
      "provenance": [],
      "authorship_tag": "ABX9TyNHphiCXlZkl1W2i7WIDIfg",
      "include_colab_link": true
    },
    "kernelspec": {
      "name": "python3",
      "display_name": "Python 3"
    },
    "language_info": {
      "name": "python"
    }
  },
  "cells": [
    {
      "cell_type": "markdown",
      "metadata": {
        "id": "view-in-github",
        "colab_type": "text"
      },
      "source": [
        "<a href=\"https://colab.research.google.com/github/HarshitaDoki/Python_programs/blob/main/List_23_3_22.ipynb\" target=\"_parent\"><img src=\"https://colab.research.google.com/assets/colab-badge.svg\" alt=\"Open In Colab\"/></a>"
      ]
    },
    {
      "cell_type": "markdown",
      "source": [
        "\n",
        "1. **LIST** is an alter to switch case,all the items in a list do not need to be of the same type.\n",
        "2. index starts with 0-in python,the value of elements of a list can be altered.\n",
        "3. in fruit[x:y]....x=initial index,y=final index \n",
        "4. in frruit[x]...x=index of requird string to be displayed\n",
        "5. -1 is the index n-1 ...-2 is the index n-2...\n",
        "6. type() function to know which class a variable or a value belongs to. \n",
        "7. the isinstance() function is used to check if an object belongs to a     particular class.\n",
        "\n",
        "1. **TUPLE** -same as a list,Tuples once created cannot be modified,faster than lists.\n",
        "2. It is defined within parentheses ()\n",
        "\n",
        "1. **STRINGS** -single quotes or double quotes to represent strings. Multi-line strings can be denoted using triple quotes, ''' or \"\"\"\n",
        "2. Strings are immutable.\n",
        "\n",
        "1. **SET** - { }...Sets have unique values.They eliminate duplicates.\n",
        "2. sets are unordered collection, indexing has no meaning. Hence, the slicing operator [] does not work.\n",
        "\n",
        "\n",
        "\n",
        "\n",
        "\n",
        "\n"
      ],
      "metadata": {
        "id": "CPNRksuC4h7c"
      }
    },
    {
      "cell_type": "code",
      "source": [
        "# LIST EXAMPLE \n",
        "fruit=['mango','apple','orange','jackfruit','papaya']\n",
        "print(\"1.\",fruit[0],\",\",fruit[1])\n",
        "print(\"2.\",fruit[1:4])\n",
        "print(\"3.\",fruit[4])\n",
        "print(\"4.\",fruit[ -1])\n",
        "print(\"5.\",fruit[-4:])\n",
        "print(\"6.\",fruit[2:])\n",
        "print(\"7.\",fruit[:3])\n",
        "# print(fruit[8])...GIVES INDEX ERROR ...SINCE INDEX IS OUT OF RANGE\n",
        "# adding a word/element in list\n",
        "fruit.append('strawberry')\n",
        "print(\"8.\",fruit[0:])\n",
        "# replacing the element\n",
        "fruit[3]='cherry'\n",
        "print(\"9.\",fruit[0:])\n",
        "# inserting an element \n",
        "fruit.insert(3,'pineapple')\n",
        "print(\"10.\",fruit[0:])\n",
        "# removing an element in list....(to delete list we use delete)\n",
        "fruit.remove('pineapple')\n",
        "print(\"11.\",fruit[0:])\n",
        "#to sort the list\n",
        "fruit.sort()\n",
        "print(\"12.\",fruit[0:])\n",
        "#reverse a list\n",
        "fruit.reverse()\n",
        "print(\"13.\",fruit[0:])\n",
        "#extend a list\n",
        "fruit.extend('blueberry')\n",
        "print(\"14.\",fruit[0:])\n",
        "print(fruit)\n",
        "#length of list\n",
        "print(len(fruit))"
      ],
      "metadata": {
        "colab": {
          "base_uri": "https://localhost:8080/"
        },
        "id": "Dx6ynie84pwz",
        "outputId": "78b1b20a-a8e6-4ea2-886e-6410e2b61693"
      },
      "execution_count": 64,
      "outputs": [
        {
          "output_type": "stream",
          "name": "stdout",
          "text": [
            "1. mango , apple\n",
            "2. ['apple', 'orange', 'jackfruit']\n",
            "3. papaya\n",
            "4. papaya\n",
            "5. ['apple', 'orange', 'jackfruit', 'papaya']\n",
            "6. ['orange', 'jackfruit', 'papaya']\n",
            "7. ['mango', 'apple', 'orange']\n",
            "8. ['mango', 'apple', 'orange', 'jackfruit', 'papaya', 'strawberry']\n",
            "9. ['mango', 'apple', 'orange', 'cherry', 'papaya', 'strawberry']\n",
            "10. ['mango', 'apple', 'orange', 'pineapple', 'cherry', 'papaya', 'strawberry']\n",
            "11. ['mango', 'apple', 'orange', 'cherry', 'papaya', 'strawberry']\n",
            "12. ['apple', 'cherry', 'mango', 'orange', 'papaya', 'strawberry']\n",
            "13. ['strawberry', 'papaya', 'orange', 'mango', 'cherry', 'apple']\n",
            "14. ['strawberry', 'papaya', 'orange', 'mango', 'cherry', 'apple', 'b', 'l', 'u', 'e', 'b', 'e', 'r', 'r', 'y']\n",
            "['strawberry', 'papaya', 'orange', 'mango', 'cherry', 'apple', 'b', 'l', 'u', 'e', 'b', 'e', 'r', 'r', 'y']\n",
            "15\n"
          ]
        }
      ]
    },
    {
      "cell_type": "markdown",
      "source": [
        "to add an element "
      ],
      "metadata": {
        "id": "jF3jXHPnB-2J"
      }
    },
    {
      "cell_type": "code",
      "source": [
        "# for loop\n",
        "s=0\n",
        "for i in range(0,30,2):\n",
        "  print(i)\n",
        "  s=s+i\n",
        "print(\"sum =\",s)\n"
      ],
      "metadata": {
        "colab": {
          "base_uri": "https://localhost:8080/"
        },
        "id": "JlrN4xGm8eQn",
        "outputId": "726382b7-513c-4895-8016-395f8a6e95b8"
      },
      "execution_count": 47,
      "outputs": [
        {
          "output_type": "stream",
          "name": "stdout",
          "text": [
            "0\n",
            "2\n",
            "4\n",
            "6\n",
            "8\n",
            "10\n",
            "12\n",
            "14\n",
            "16\n",
            "18\n",
            "20\n",
            "22\n",
            "24\n",
            "26\n",
            "28\n",
            "sum = 210\n"
          ]
        }
      ]
    }
  ]
}