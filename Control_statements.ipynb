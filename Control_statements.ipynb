{
  "nbformat": 4,
  "nbformat_minor": 0,
  "metadata": {
    "colab": {
      "name": "Control statements",
      "provenance": [],
      "authorship_tag": "ABX9TyN5ckxmJfncKaUnUWDTxh1C",
      "include_colab_link": true
    },
    "kernelspec": {
      "name": "python3",
      "display_name": "Python 3"
    },
    "language_info": {
      "name": "python"
    }
  },
  "cells": [
    {
      "cell_type": "markdown",
      "metadata": {
        "id": "view-in-github",
        "colab_type": "text"
      },
      "source": [
        "<a href=\"https://colab.research.google.com/github/HarshitaDoki/Python_programs/blob/main/Control_statements.ipynb\" target=\"_parent\"><img src=\"https://colab.research.google.com/assets/colab-badge.svg\" alt=\"Open In Colab\"/></a>"
      ]
    },
    {
      "cell_type": "code",
      "execution_count": 11,
      "metadata": {
        "colab": {
          "base_uri": "https://localhost:8080/"
        },
        "id": "I9HGdhsfPY4v",
        "outputId": "7bdc8322-1c95-4fbe-bd98-6dea4fd57271"
      },
      "outputs": [
        {
          "output_type": "stream",
          "name": "stdout",
          "text": [
            "enter number34\n",
            "eligible for voting\n"
          ]
        }
      ],
      "source": [
        "# find out the person who is eligible for voting\n",
        "a=int(input(\"enter number\"))\n",
        "if a>=18 :\n",
        "   print(\"eligible for voting\")\n",
        "else:\n",
        "   print(\"not eligible\")"
      ]
    },
    {
      "cell_type": "code",
      "source": [
        "# maximum of three nums\n",
        "a,b,c=21,39,20\n",
        "if a>b and a>c:\n",
        "   print(a,\"is the greatest num\")\n",
        "elif b>a and b>c:\n",
        "  print(b,\"is the greatest\")\n",
        "else: \n",
        "  print(c,\"is the greatest\")  \n",
        "\n"
      ],
      "metadata": {
        "colab": {
          "base_uri": "https://localhost:8080/"
        },
        "id": "yHI5ZYUeRxrh",
        "outputId": "68d629a3-2214-45f4-e30e-2d0a0e9d606f"
      },
      "execution_count": 28,
      "outputs": [
        {
          "output_type": "stream",
          "name": "stdout",
          "text": [
            "39 is the greatest\n"
          ]
        }
      ]
    },
    {
      "cell_type": "code",
      "source": [
        "\n",
        "a=int(input(\"enter first num\"))\n",
        "b=int(input(\"enter second num\"))\n",
        "c=int(input(\"enter third num\"))\n",
        "if a>b and a>c:\n",
        "   print(a,\"is the greatest num\")\n",
        "elif b>a and b>c:\n",
        "  print(b,\"is the greatest\")\n",
        "else: \n",
        "  print(c,\"is the greatest\")  \n",
        "\n"
      ],
      "metadata": {
        "colab": {
          "base_uri": "https://localhost:8080/"
        },
        "id": "4v4Oom5NUxSr",
        "outputId": "551b79a8-37f8-4169-dae7-60da69f6f130"
      },
      "execution_count": 20,
      "outputs": [
        {
          "output_type": "stream",
          "name": "stdout",
          "text": [
            "enter first num34\n",
            "enter second num42\n",
            "enter third num23\n",
            "42 is the greatest\n"
          ]
        }
      ]
    },
    {
      "cell_type": "code",
      "source": [
        "# greatewst among  5 sub marks \n",
        "a=int(input(\"enter marks\"))\n",
        "b=int(input(\"enter marks\"))\n",
        "c=int(input(\"enter marks\"))\n",
        "d=int(input(\"enter marks\"))\n",
        "e=int(input(\"enter marks\"))\n",
        "if a>b and a>c and a>d and a>e:\n",
        "   print(a,\"is the greatest num\")\n",
        "elif b>a and b>c and b>d and b>e:\n",
        "   print(b,\"is the greatest num\")\n",
        "elif c>b and c>a and c>d and c>e:\n",
        "   print(c,\"is the greatest num\")\n",
        "elif d>b and d>c and d>a and d>e:\n",
        "   print(d,\"is the greatest num\")\n",
        "else:\n",
        "   print(e,\"is the greatest num\")\n",
        "   "
      ],
      "metadata": {
        "colab": {
          "base_uri": "https://localhost:8080/"
        },
        "id": "56B1JexyV_Ex",
        "outputId": "3ed7f761-d137-4608-982b-a047c8349334"
      },
      "execution_count": 23,
      "outputs": [
        {
          "output_type": "stream",
          "name": "stdout",
          "text": [
            "enter marks456\n",
            "enter marks34\n",
            "enter marks754\n",
            "enter marks34\n",
            "enter marks54\n",
            "754 is the greatest num\n"
          ]
        }
      ]
    },
    {
      "cell_type": "code",
      "source": [
        "# type of triangle\n",
        "a=int(input(\"enter side length\"))\n",
        "b=int(input(\"enter side length\"))\n",
        "c=int(input(\"enter side length\"))\n",
        "if a==b==c:\n",
        "  print(\"it is an equilateral triangle\")\n",
        "elif a==b or a==c or b==c :\n",
        "  print(\"it is an isosceles triangle\")\n",
        "else :\n",
        "  print(\"it is a scalene triangle\")\n"
      ],
      "metadata": {
        "colab": {
          "base_uri": "https://localhost:8080/"
        },
        "id": "5ExTSNuJX3Yh",
        "outputId": "7e1d07b1-d194-43db-b8ed-1114db088c96"
      },
      "execution_count": 26,
      "outputs": [
        {
          "output_type": "stream",
          "name": "stdout",
          "text": [
            "enter side length2\n",
            "enter side length2\n",
            "enter side length2\n",
            "it is an equilateral triangle\n"
          ]
        }
      ]
    },
    {
      "cell_type": "code",
      "source": [
        "# given num is +ve or -ve or 0 ?\n",
        "a=int(input(\"enter a value\"))\n",
        "if a>0:\n",
        "  print(a,\"is a positive value\")\n",
        "elif a<0:\n",
        "  print(a,\"is a negative num\")\n",
        "else:\n",
        "   print(a,\"is zero\")    "
      ],
      "metadata": {
        "colab": {
          "base_uri": "https://localhost:8080/"
        },
        "id": "FSzolzbebCDS",
        "outputId": "165dca3d-573b-4129-89aa-eaa03448ca8c"
      },
      "execution_count": 32,
      "outputs": [
        {
          "output_type": "stream",
          "name": "stdout",
          "text": [
            "enter a value0\n",
            "0 is zero\n"
          ]
        }
      ]
    },
    {
      "cell_type": "code",
      "source": [
        "# give year is leapyear or not ?\n",
        "a=int(input(\"enter year\"))\n",
        "if a%4==0 or a%400:\n",
        "   print(a,\"is a leap year\")\n",
        "else:\n",
        "  print(a,\"is not a leap year \")   "
      ],
      "metadata": {
        "colab": {
          "base_uri": "https://localhost:8080/"
        },
        "id": "4zPynsNjcdtZ",
        "outputId": "09eb136b-ae81-4bb5-ff5c-53068c34f41b"
      },
      "execution_count": 39,
      "outputs": [
        {
          "output_type": "stream",
          "name": "stdout",
          "text": [
            "enter year2016\n",
            "2016 is a leap year\n"
          ]
        }
      ]
    },
    {
      "cell_type": "code",
      "source": [
        ""
      ],
      "metadata": {
        "id": "gCuZacPcedfi"
      },
      "execution_count": null,
      "outputs": []
    }
  ]
}