{
  "nbformat": 4,
  "nbformat_minor": 0,
  "metadata": {
    "colab": {
      "name": "Module1_progs.ipynb",
      "provenance": [],
      "collapsed_sections": [],
      "authorship_tag": "ABX9TyMcuAPIN7JpT7Wv5Blus2gY",
      "include_colab_link": true
    },
    "kernelspec": {
      "name": "python3",
      "display_name": "Python 3"
    },
    "language_info": {
      "name": "python"
    }
  },
  "cells": [
    {
      "cell_type": "markdown",
      "metadata": {
        "id": "view-in-github",
        "colab_type": "text"
      },
      "source": [
        "<a href=\"https://colab.research.google.com/github/HarshitaDoki/Python_programs/blob/main/Module1_progs.ipynb\" target=\"_parent\"><img src=\"https://colab.research.google.com/assets/colab-badge.svg\" alt=\"Open In Colab\"/></a>"
      ]
    },
    {
      "cell_type": "code",
      "execution_count": null,
      "metadata": {
        "colab": {
          "base_uri": "https://localhost:8080/"
        },
        "id": "gShe_RBxTDbS",
        "outputId": "0a3fd707-fbe7-4ba8-a633-92667d452a2d"
      },
      "outputs": [
        {
          "output_type": "stream",
          "name": "stdout",
          "text": [
            "enter a value40\n",
            "40\n",
            "enterhello\n",
            "hello\n"
          ]
        }
      ],
      "source": [
        "# 1.Accept input from user and store it in variable and print the value.\n",
        "a=int(input('enter a value'))\n",
        "print(a)\n",
        "k=input(\"enter\")\n",
        "print(k)"
      ]
    },
    {
      "cell_type": "code",
      "source": [
        "# 2.Use of print statements and use of (.format )for printing different data types.\n",
        "txt='there are {} oranges and {} apples in {} bags each '\n",
        "print(txt.format(4,5,'two'))\n",
        "print(type(txt))"
      ],
      "metadata": {
        "colab": {
          "base_uri": "https://localhost:8080/"
        },
        "id": "EBxFW-nVU6h4",
        "outputId": "85ae5cf2-50ea-45cb-b93d-7ada6b81b908"
      },
      "execution_count": null,
      "outputs": [
        {
          "output_type": "stream",
          "name": "stdout",
          "text": [
            "there are 4 oranges and 5 apples in two bags each \n",
            "<class 'str'>\n"
          ]
        }
      ]
    },
    {
      "cell_type": "code",
      "source": [
        "''' 3.Take 2 numbers as user input and add, multiply, divide, subtract, remainder and print\n",
        "the output (Same operations on floating point input as well) '''\n",
        "a=int(input('enter a value'))\n",
        "b=int(input('enter a value'))\n",
        "print(a+b,a-b,a*b,(a+b)/2,a/b,a%b)\n",
        "\n",
        "a=float(input('enter a value'))\n",
        "b=float(input('enter a value'))\n",
        "print(a+b,a-b,a*b,(a+b)/2,a/b,a%b)"
      ],
      "metadata": {
        "colab": {
          "base_uri": "https://localhost:8080/"
        },
        "id": "qQiU6tZlaTJb",
        "outputId": "9a06c9c7-c99d-482c-8226-7c775efc8783"
      },
      "execution_count": null,
      "outputs": [
        {
          "output_type": "stream",
          "name": "stdout",
          "text": [
            "enter a value40\n",
            "enter a value20\n",
            "60 20 800 30.0 2.0 0\n",
            "enter a value40.0\n",
            "enter a value20.0\n",
            "60.0 20.0 800.0 30.0 2.0 0.0\n"
          ]
        }
      ]
    },
    {
      "cell_type": "code",
      "source": [
        "# 4. Conversion of one unit to another such as hours to minutes, miles to km\n",
        "a=int(input('no of hours' ))\n",
        "time=60*a\n",
        "print(time,'min')\n",
        "b=int(input('no of miles'))\n",
        "print(b*1.609,'km')\n"
      ],
      "metadata": {
        "colab": {
          "base_uri": "https://localhost:8080/"
        },
        "id": "whohb6trqTTs",
        "outputId": "e8a5273f-391c-4450-e83b-e9300ca2ee72"
      },
      "execution_count": null,
      "outputs": [
        {
          "output_type": "stream",
          "name": "stdout",
          "text": [
            "no of hours3\n",
            "180 min\n",
            "no of miles4\n",
            "6.436 km\n"
          ]
        }
      ]
    },
    {
      "cell_type": "code",
      "source": [
        "# 5.Usage of mathematical functions in python like math.ceil, floor, fabs, fmod, trunc,pow, sqrt etc. \n",
        "import math\n",
        "a=382.78\n",
        "print(math.ceil(a))\n",
        "print(a)\n",
        "print(math.floor(a)) \n",
        "a=-4\n",
        "print(math.fabs(a))   # returns absolute value\n",
        "print(math.fmod(a,2)) #remainder of given nums\n",
        "a=38.8\n",
        "print(math.trunc(a)) # rounds off to nearest 0\n",
        "a=5\n",
        "print(math.pow(a,2))\n",
        "a=36\n",
        "print(math.sqrt(a))\n",
        "\n"
      ],
      "metadata": {
        "colab": {
          "base_uri": "https://localhost:8080/"
        },
        "id": "WpJuNZQEuEku",
        "outputId": "2d49b060-4600-4fc1-d8eb-e3b0a0a522d4"
      },
      "execution_count": null,
      "outputs": [
        {
          "output_type": "stream",
          "name": "stdout",
          "text": [
            "383\n",
            "382.78\n",
            "382\n",
            "4.0\n",
            "-0.0\n",
            "38\n",
            "25.0\n",
            "6.0\n"
          ]
        }
      ]
    },
    {
      "cell_type": "code",
      "source": [
        "# 6.Building a mathematical calculator that can perform operations according to user input.Use decision making statement.\n",
        "a=int(input('enter a num'))\n",
        "b=int(input('enter a value'))\n",
        "op=input('enter operator')\n",
        "if op=='+':\n",
        "  print(a+b)\n",
        "elif op=='-':\n",
        "  print(a-b)\n",
        "elif op=='*':\n",
        "  print(a*b)\n",
        "elif op=='/':\n",
        "  print(a/b)\n",
        "elif op=='%':\n",
        "  print(a%b)  "
      ],
      "metadata": {
        "colab": {
          "base_uri": "https://localhost:8080/"
        },
        "id": "JKdhwVX5y9iZ",
        "outputId": "f9691468-126d-4e25-f1bb-1a069a10436e"
      },
      "execution_count": null,
      "outputs": [
        {
          "output_type": "stream",
          "name": "stdout",
          "text": [
            "enter a num4\n",
            "enter a value2\n",
            "enter operator/\n",
            "2.0\n"
          ]
        }
      ]
    },
    {
      "cell_type": "code",
      "source": [
        "# 7.Accepting 5 different subject marks from user and displaying the grade of the student.\n",
        "s1=float(input('enter marks of sub1'))\n",
        "s2=float(input('enter marks of sub2'))\n",
        "s3=float(input('enter marks of sub3'))\n",
        "s4=float(input('enter marks of sub4'))\n",
        "s5=float(input('enter marks of sub5'))\n",
        "avg=(s1+s2+s3+s4+s5)/5\n",
        "if avg<=100 and avg>=90:\n",
        "  print('O grade')\n",
        "elif avg<=89 and avg>=80:\n",
        "  print('A grade')\n",
        "elif avg<=79 and avg>=70:\n",
        "  print('B grade')\n",
        "elif avg<=69 and avg>=60:\n",
        "  print('C grade')   \n",
        "elif avg<=59 and avg>=50:     \n",
        "   print('Pass')\n",
        "else:\n",
        "   print('fail')"
      ],
      "metadata": {
        "id": "wC9OL2XE9M5r",
        "colab": {
          "base_uri": "https://localhost:8080/"
        },
        "outputId": "453fda45-83cc-468a-8479-4364acba80cf"
      },
      "execution_count": null,
      "outputs": [
        {
          "output_type": "stream",
          "name": "stdout",
          "text": [
            "enter marks of sub175\n",
            "enter marks of sub287\n",
            "enter marks of sub394\n",
            "enter marks of sub476\n",
            "enter marks of sub592\n",
            "A grade\n"
          ]
        }
      ]
    },
    {
      "cell_type": "code",
      "source": [
        "# 8.Printing all even numbers, odd numbers, count of even numbers, count of odd numbers within a given range\n",
        "n=int(input('enter starting num'))\n",
        "m=int(input('enter last num'))\n",
        "e=o=ec=oc=0\n",
        "print('even nums')\n",
        "for i in range(n, m):\n",
        "   if i%2==0:\n",
        "     e=e+i\n",
        "     ec=ec+1\n",
        "     print(i)\n",
        "print('odd nums')     \n",
        "for i in range(n, m):     \n",
        "   if i%2!=0:\n",
        "     o=o+i\n",
        "     oc=oc+1\n",
        "     print(i)  \n",
        "else:\n",
        "  print('sum of all even nums=',e,'sum of all odd=',o) \n",
        "  print(\"count of even num=\",ec,\"count of odd num=\",oc)    "
      ],
      "metadata": {
        "colab": {
          "base_uri": "https://localhost:8080/"
        },
        "id": "5abJABVAXbmx",
        "outputId": "042ee96c-e799-4062-dd59-f3cad68b278b"
      },
      "execution_count": null,
      "outputs": [
        {
          "output_type": "stream",
          "name": "stdout",
          "text": [
            "enter starting num2\n",
            "enter last num11\n",
            "even nums\n",
            "2\n",
            "4\n",
            "6\n",
            "8\n",
            "10\n",
            "odd nums\n",
            "3\n",
            "5\n",
            "7\n",
            "9\n",
            "sum of all even nums= 30 sum of all odd= 24\n",
            "count of even num= 5 count of odd num= 4\n"
          ]
        }
      ]
    },
    {
      "cell_type": "code",
      "source": [
        "#9.factorial of a given num\n",
        "n=int(input('enter a num'))\n",
        "f=1\n",
        "for i in range(1,n+1):\n",
        "  f=f*i\n",
        "print('factorial of',n,'is',f)  \n"
      ],
      "metadata": {
        "colab": {
          "base_uri": "https://localhost:8080/"
        },
        "id": "SQ_NZzXyZ8zx",
        "outputId": "e8b92944-3f6b-4f81-e210-920ed4341fcd"
      },
      "execution_count": null,
      "outputs": [
        {
          "output_type": "stream",
          "name": "stdout",
          "text": [
            "enter a num5\n",
            "factorial of 5 is 120\n"
          ]
        }
      ]
    },
    {
      "cell_type": "code",
      "source": [
        "#10.Compute GCD of two given numbers\n",
        "a=int(input('enter a num'))\n",
        "b=int(input('enter a num'))\n",
        "gcd=1\n",
        "if a<b:\n",
        "  for i in range(1,a):\n",
        "    if a%i==0 and b%i==0 and i>=gcd:\n",
        "       gcd=i\n",
        "elif a>b:\n",
        "  for i in range(1,b):\n",
        "     if a%i==0 and b%i==0 and i>=gcd:\n",
        "          gcd=i\n",
        "else:  # a=b........\n",
        "  gcd=a\n",
        "print('gcd of',a,'and',b,'is',gcd)  \n",
        "\n",
        "\n",
        "\n"
      ],
      "metadata": {
        "colab": {
          "base_uri": "https://localhost:8080/"
        },
        "id": "3sGgT8qOiWfj",
        "outputId": "947da9e6-79c9-4afa-96de-b40651f6c70a"
      },
      "execution_count": null,
      "outputs": [
        {
          "output_type": "stream",
          "name": "stdout",
          "text": [
            "enter a num5\n",
            "enter a num5\n",
            "gcd of 5 and 5 is 5\n"
          ]
        }
      ]
    },
    {
      "cell_type": "code",
      "source": [
        "#11.fibanocci series\n",
        "n=int(input('enter a num'))\n",
        "a=0\n",
        "b=1\n",
        "c=0\n",
        "print(a)\n",
        "print(b)\n",
        "#print(c)\n",
        "for i in range(n-2):\n",
        "   c=a+b\n",
        "   print(c)\n",
        "   a=b\n",
        "   b=c"
      ],
      "metadata": {
        "colab": {
          "base_uri": "https://localhost:8080/"
        },
        "id": "dRhTmiHUanTX",
        "outputId": "9e6d69b6-69ef-41e8-a086-eb04e60e4ff2"
      },
      "execution_count": null,
      "outputs": [
        {
          "output_type": "stream",
          "name": "stdout",
          "text": [
            "enter a num10\n",
            "0\n",
            "1\n",
            "1\n",
            "2\n",
            "3\n",
            "5\n",
            "8\n",
            "13\n",
            "21\n",
            "34\n"
          ]
        }
      ]
    },
    {
      "cell_type": "code",
      "source": [
        "#12. Check whether the given input is a palindrome\n",
        "n=int(input('enter a num'))\n",
        "x=n\n",
        "m=0\n",
        "r=0\n",
        "while(n>0):\n",
        "   r=n%10\n",
        "   n=n//10\n",
        "   m=m*10+r\n",
        "if m==x:\n",
        "  print(x,'is a palidrome')\n",
        "else:\n",
        "  print(x,'is not a palindrome')  "
      ],
      "metadata": {
        "colab": {
          "base_uri": "https://localhost:8080/"
        },
        "id": "6kORGBrUk6yT",
        "outputId": "09a18a16-8b51-4a3d-bcb2-c0eb0a4c1bb3"
      },
      "execution_count": null,
      "outputs": [
        {
          "output_type": "stream",
          "name": "stdout",
          "text": [
            "enter a num32123\n",
            "32123 is a palidrome\n"
          ]
        }
      ]
    },
    {
      "cell_type": "code",
      "source": [
        "#13. check whther given num is strong num or not.............strong num- sum of factorial of every digit is equal to original num\n",
        "n=int(input('enter a num'))\n",
        "l=n\n",
        "m=0\n",
        "r=0\n",
        "x=1\n",
        "while(n>0):\n",
        "   r=n%10\n",
        "   n=n//10\n",
        "   i=1\n",
        "   for i in range(1,r+1):\n",
        "     x=x*i\n",
        "   m=m+x\n",
        "   x=1\n",
        "if m==l:\n",
        "   print(l,'is a strong num')\n",
        "else:\n",
        "  print(l,'is not a strong num')  \n"
      ],
      "metadata": {
        "colab": {
          "base_uri": "https://localhost:8080/"
        },
        "id": "ZrVEr0Bgm3WH",
        "outputId": "0c656b68-6899-479f-f4ec-cb22da71931a"
      },
      "execution_count": null,
      "outputs": [
        {
          "output_type": "stream",
          "name": "stdout",
          "text": [
            "enter a num145\n",
            "145 is a strong num\n"
          ]
        }
      ]
    },
    {
      "cell_type": "code",
      "source": [
        "#14.Check whether the given input is perfect\n",
        "a=int(input('enter a num'))\n",
        "s=0\n",
        "for i in range(1,a):\n",
        " if a%i==0:\n",
        "   s=s+i\n",
        "if s==a:\n",
        "  print(a,'is a perfect num')\n",
        "else:\n",
        "  print(a,'is not a perfect num')     "
      ],
      "metadata": {
        "colab": {
          "base_uri": "https://localhost:8080/"
        },
        "id": "1j4xnIqtKvuj",
        "outputId": "b497f48d-129e-4ff3-b1d9-283e95690cb9"
      },
      "execution_count": null,
      "outputs": [
        {
          "output_type": "stream",
          "name": "stdout",
          "text": [
            "enter a num28\n",
            "28 is a perfect num\n"
          ]
        }
      ]
    },
    {
      "cell_type": "code",
      "source": [
        "#15.Compute compound interest using loop for a certain principal and interest amount\n",
        "\n",
        "p=int(input(\"Enter the principle amount:\"))\n",
        "rate=int(input(\"Enter the rate:\"))\n",
        "yrs=int(input(\"Enter the number of years:\"))\n",
        "\n",
        "for i in range(yrs):\n",
        "    p=p+((p*rate)/100)\n",
        "print(p)\n",
        " "
      ],
      "metadata": {
        "id": "IE1ijH7uN93G",
        "colab": {
          "base_uri": "https://localhost:8080/"
        },
        "outputId": "27b1d5ea-00c2-455f-9684-6ce4583b5b2d"
      },
      "execution_count": null,
      "outputs": [
        {
          "output_type": "stream",
          "name": "stdout",
          "text": [
            "Enter the principle amount:100\n",
            "Enter the rate:2\n",
            "Enter the number of years:2\n",
            "104.04\n"
          ]
        }
      ]
    }
  ]
}