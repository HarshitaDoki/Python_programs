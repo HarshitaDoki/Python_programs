{
  "nbformat": 4,
  "nbformat_minor": 0,
  "metadata": {
    "colab": {
      "name": "control statements_2",
      "provenance": [],
      "authorship_tag": "ABX9TyNP7unKXXUzQfXQKSjEAz3s",
      "include_colab_link": true
    },
    "kernelspec": {
      "name": "python3",
      "display_name": "Python 3"
    },
    "language_info": {
      "name": "python"
    }
  },
  "cells": [
    {
      "cell_type": "markdown",
      "metadata": {
        "id": "view-in-github",
        "colab_type": "text"
      },
      "source": [
        "<a href=\"https://colab.research.google.com/github/HarshitaDoki/Python_programs/blob/main/control_statements_2.ipynb\" target=\"_parent\"><img src=\"https://colab.research.google.com/assets/colab-badge.svg\" alt=\"Open In Colab\"/></a>"
      ]
    },
    {
      "cell_type": "code",
      "execution_count": 24,
      "metadata": {
        "colab": {
          "base_uri": "https://localhost:8080/"
        },
        "id": "K_aHeXM8nZq_",
        "outputId": "4da27dd7-a233-4742-e05a-9907aa883f86"
      },
      "outputs": [
        {
          "output_type": "stream",
          "name": "stdout",
          "text": [
            "enter coeff of x^21\n",
            "enter coeff of x-8\n",
            "enter a constant12\n",
            "2.449489742783178 (8.659560562354934e-17+1.4142135623730951j)\n"
          ]
        }
      ],
      "source": [
        "# roots of quadratic equations\n",
        "import math\n",
        "a=int(input(\"enter coeff of x^2\"))\n",
        "b=int(input(\"enter coeff of x\"))\n",
        "c=int(input(\"enter a constant\"))\n",
        "r1=(pow((-b+(b*b-4*a*c)),0.5))/(2*a)\n",
        "r2=(pow((-b-(b*b-4*a*c)),0.5))/(2*a)\n",
        "print(r1,r2)"
      ]
    },
    {
      "cell_type": "code",
      "source": [
        "# given is even or odd\n",
        "a=int(input())\n",
        "if (a%2==0):\n",
        "  print(a,\"is even num\")\n",
        "else:\n",
        "  print(a,\"is odd num\")  "
      ],
      "metadata": {
        "colab": {
          "base_uri": "https://localhost:8080/"
        },
        "id": "fUNJemGWvjWe",
        "outputId": "938392b9-1778-4ea5-9ce7-81574e309e2d"
      },
      "execution_count": 9,
      "outputs": [
        {
          "output_type": "stream",
          "name": "stdout",
          "text": [
            "8\n",
            "8 is even num\n"
          ]
        }
      ]
    },
    {
      "cell_type": "code",
      "source": [
        ""
      ],
      "metadata": {
        "id": "joWiOhIe0UyX"
      },
      "execution_count": null,
      "outputs": []
    },
    {
      "cell_type": "code",
      "source": [
        "# 0 or not\n",
        "a=int(input())\n",
        "if(a==0):\n",
        "  print(\"zero\")\n",
        "else:\n",
        "  print(\"not zero\")  "
      ],
      "metadata": {
        "colab": {
          "base_uri": "https://localhost:8080/"
        },
        "id": "XLqSUXkLz2eM",
        "outputId": "ea01f0f5-54fa-4b36-b374-5e40720657e1"
      },
      "execution_count": 16,
      "outputs": [
        {
          "output_type": "stream",
          "name": "stdout",
          "text": [
            "3\n",
            "not zero\n"
          ]
        }
      ]
    },
    {
      "cell_type": "code",
      "source": [
        "# best score\n",
        "score=int(input())\n",
        "if score>=90 :\n",
        "  best=1\n",
        "  print(\"best = \",best)\n",
        "else:\n",
        "  print(\"given is less than 90\")  "
      ],
      "metadata": {
        "colab": {
          "base_uri": "https://localhost:8080/"
        },
        "id": "gAlM0bZe18go",
        "outputId": "3387dfb3-129d-41e5-dcdc-df9c9a36a6e9"
      },
      "execution_count": 26,
      "outputs": [
        {
          "output_type": "stream",
          "name": "stdout",
          "text": [
            "34\n",
            "given is less than 90\n"
          ]
        }
      ]
    },
    {
      "cell_type": "code",
      "source": [
        "# find quotient\n",
        "divident=int(input())\n",
        "divisor=int(input())\n",
        "if divisor==0:\n",
        "  quotient=0\n",
        "else:\n",
        "  quotient=divident/divisor\n",
        "print(quotient)    "
      ],
      "metadata": {
        "colab": {
          "base_uri": "https://localhost:8080/"
        },
        "id": "tkD5uuhi2lOV",
        "outputId": "a217a366-7fa8-4baa-c250-6277ceb652f0"
      },
      "execution_count": 29,
      "outputs": [
        {
          "output_type": "stream",
          "name": "stdout",
          "text": [
            "45\n",
            "3\n",
            "15.0\n"
          ]
        }
      ]
    }
  ]
}