{
  "nbformat": 4,
  "nbformat_minor": 0,
  "metadata": {
    "colab": {
      "name": "QUIZ-1_progs",
      "provenance": [],
      "authorship_tag": "ABX9TyPp/QsaK3s3DWyc2WmceR2X",
      "include_colab_link": true
    },
    "kernelspec": {
      "name": "python3",
      "display_name": "Python 3"
    },
    "language_info": {
      "name": "python"
    }
  },
  "cells": [
    {
      "cell_type": "markdown",
      "metadata": {
        "id": "view-in-github",
        "colab_type": "text"
      },
      "source": [
        "<a href=\"https://colab.research.google.com/github/HarshitaDoki/Python_programs/blob/main/QUIZ_1_progs.ipynb\" target=\"_parent\"><img src=\"https://colab.research.google.com/assets/colab-badge.svg\" alt=\"Open In Colab\"/></a>"
      ]
    },
    {
      "cell_type": "code",
      "source": [
        "# quesion 1   answer:correct   marks:1\n",
        "# Write a program of swapping of two numbers \n",
        "a=2\n",
        "b=3\n",
        "c=a\n",
        "a=b\n",
        "b=c\n",
        "print(\"Result =\",a,b)"
      ],
      "metadata": {
        "colab": {
          "base_uri": "https://localhost:8080/"
        },
        "id": "Ll3xXuF2hSzT",
        "outputId": "7adea9db-2a2b-4522-c1e1-3b8da216006f"
      },
      "execution_count": 4,
      "outputs": [
        {
          "output_type": "stream",
          "name": "stdout",
          "text": [
            "Result = 3 2\n"
          ]
        }
      ]
    },
    {
      "cell_type": "code",
      "source": [
        "#qustion 2   answer:correct   marks:1\n",
        "# Find out the square root of the number\n",
        "a=4\n",
        "print(a**0.5)"
      ],
      "metadata": {
        "colab": {
          "base_uri": "https://localhost:8080/"
        },
        "id": "aaSo7JNEhOn6",
        "outputId": "307297ef-89e3-4062-fc0c-f8b377e406c6"
      },
      "execution_count": 3,
      "outputs": [
        {
          "output_type": "stream",
          "name": "stdout",
          "text": [
            "2.0\n"
          ]
        }
      ]
    },
    {
      "cell_type": "code",
      "source": [
        "#question 3   answer:correct  marks:1\n",
        "#Find out the Largest of three numbers from the give input\n",
        "a,b,c=5,3,2\n",
        "if a>b and a>c:\n",
        "    print(a)\n",
        "elif b>a and b>c:\n",
        "    print(b)\n",
        "else :\n",
        "    print(c)\n",
        "    "
      ],
      "metadata": {
        "colab": {
          "base_uri": "https://localhost:8080/"
        },
        "id": "_FJoRPWtgtyL",
        "outputId": "602d3425-ad2f-4c8d-9805-250f3d7d9301"
      },
      "execution_count": 7,
      "outputs": [
        {
          "output_type": "stream",
          "name": "stdout",
          "text": [
            "5\n"
          ]
        }
      ]
    },
    {
      "cell_type": "code",
      "execution_count": 6,
      "metadata": {
        "colab": {
          "base_uri": "https://localhost:8080/"
        },
        "id": "wqEVQhltgiKi",
        "outputId": "80c60a35-f90d-404e-fee3-2069ab868133"
      },
      "outputs": [
        {
          "output_type": "stream",
          "name": "stdout",
          "text": [
            "Rainbow = ['Red', 'Orange', 'Yellow', 'Black', 'Green']\n"
          ]
        }
      ],
      "source": [
        "#question 4    answer:correct   marks:1\n",
        "#Add Black color to the given list in the 4th place. \n",
        "Rainbow=['Red', 'Orange', 'Yellow', 'Green'] \n",
        "Rainbow.insert(3,\"Black\")\n",
        "print('Rainbow =',Rainbow)"
      ]
    }
  ]
}